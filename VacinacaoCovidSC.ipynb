{
  "nbformat": 4,
  "nbformat_minor": 0,
  "metadata": {
    "colab": {
      "name": "VacinacaoCovidSC.ipynb",
      "provenance": [],
      "collapsed_sections": []
    },
    "kernelspec": {
      "name": "python3",
      "display_name": "Python 3"
    },
    "language_info": {
      "name": "python"
    }
  },
  "cells": [
    {
      "cell_type": "markdown",
      "metadata": {
        "id": "tV3ddnaiVTh_"
      },
      "source": [
        "Trabalho Final – Parte 2 - Cristopher Braatz Cardoso e Lucas Amaral\n",
        "\n",
        "* A ideia desse experimento é utilizar o modelo de Malthus para calcular em quanto tempo a população de Santa Catarina estará vacinada do covid19.\n",
        "* Foi utilizado uma base de dados diários do covid19 no Brasil, com informações de quantidade de vacinados por dia.\n",
        "* Com essas informações, foi calculado uma média de vacinados por dia, considerando apenas o último mês de vacinação (Abril/21). Essa média foi utilizada como taxa de vacinação.\n",
        "* Foram feitas iterações, onde cada iteração representa um dia. Foi calculado quantas pessoas estariam vacinadas naquele dia.\n",
        "* A cada 30 dias, foi feito uma calibragem de 5% no percentual, considerando que a quantidade de vacinas aplicadas sempre vai aumentando.\n",
        "* Com isso, foi obtido que em 452 dias, toda população de Santa Catarina estará vacinada."
      ]
    },
    {
      "cell_type": "code",
      "metadata": {
        "colab": {
          "base_uri": "https://localhost:8080/"
        },
        "id": "525OB3r-UHZq",
        "outputId": "dbff7c37-0ee3-4e26-b9c4-836ab7b63deb"
      },
      "source": [
        "# Bibliotecas necessárias para experimento\n",
        "\n",
        "import pandas as pd\n",
        "import numpy as np\n",
        "from matplotlib import pyplot as plt\n",
        "from datetime import datetime  \n",
        "from datetime import timedelta\n",
        "\n",
        "# Fazendo leitura de dados de vacinados no Brasil\n",
        "dados = pd.read_csv(\"https://raw.githubusercontent.com/wcota/covid19br/master/cases-brazil-states.csv\")\n",
        "\n",
        "# Filtrando apenas o estado de Santa Catarina\n",
        "dados = dados[dados.state == \"SC\"]\n",
        "\n",
        "# Tratamento da data da coleta das informações\n",
        "dados['date'] = pd.to_datetime(dados['date'])\n",
        "\n",
        "# Calculando média de vacinados por dia, a partir do mês de Abril de 2021\n",
        "primeiro_de_abril = datetime(2021, 4, 1)\n",
        "media_vacinados_por_dia = dados[dados.date > primeiro_de_abril].vaccinated.diff().mean()\n",
        "print(\"Media de vacinados por dia =\", media_vacinados_por_dia)\n",
        "\n",
        "# Buscando o total de vacinados até o momento\n",
        "total_vacinados = dados[dados.date == dados.date.max()].vaccinated.values[0]\n",
        "print(\"Total vacinados até o momento =\", total_vacinados)\n",
        "\n",
        "# Estimativa de população de Santa Catarina\n",
        "populacao_santa_catarina = 7165000\n",
        "print(\"População SC =\", populacao_santa_catarina)\n",
        "\n",
        "# Utilizando método de Malthus para calcular quantos dias serão necessários para vacinar a população de SC\n",
        "\n",
        "# População inicial de vacinados\n",
        "nova_populacao_vacinada = total_vacinados\n",
        "\n",
        "# Taxa de vacinação diária\n",
        "taxa_vacinacao_diaria = media_vacinados_por_dia / populacao_santa_catarina\n",
        "print(\"Taxa de vacinação diária =\", taxa_vacinacao_diaria * 100, \"%\")\n",
        "\n",
        "# Variável para contar os dias necessários\n",
        "contagem_dias = 1\n",
        "\n",
        "# Laço de repetição, o código abaixo será executado enquanto a população vacinada for menor que a população total\n",
        "while nova_populacao_vacinada < populacao_santa_catarina:\n",
        "  # Calculando a população vacinada no dia, utilizando fórmula de Malthus => P(t) => P0 * e ^ (k*t)\n",
        "  nova_populacao_vacinada = total_vacinados * np.exp(taxa_vacinacao_diaria * contagem_dias)\n",
        "\n",
        "  # Calibragem de 5% a cada 30 dias\n",
        "  if contagem_dias % 30 == 0 :\n",
        "    print(\"Dia =\",contagem_dias, \";\", \"População vacinada acumulado =\", nova_populacao_vacinada)\n",
        "    taxa_vacinacao_diaria *= 1.05\n",
        "    print (\"Taxa de vacinação diária calibrada = \", taxa_vacinacao_diaria * 100, \"%\")\n",
        "\n",
        "  # Incrementando a quantidade de dias\n",
        "  contagem_dias += 1\n",
        "\n",
        "print(\"Quantidade de dias para vacinar a população de Santa Catarina =\", contagem_dias)\n",
        "print(\"Estimado para todos os catarinenses estarem vacinados em =\", datetime.now() + timedelta(days=contagem_dias))"
      ],
      "execution_count": 10,
      "outputs": [
        {
          "output_type": "stream",
          "text": [
            "Media de vacinados por dia = 15427.636363636364\n",
            "Total vacinados até o momento = 990324.0\n",
            "População SC = 7165000\n",
            "Taxa de vacinação diária = 0.21531941889234282 %\n",
            "Dia = 30 ; População vacinada acumulado = 1056406.1351227164\n",
            "Taxa de vacinação diária calibrada =  0.22608538983695997 %\n",
            "Dia = 60 ; População vacinada acumulado = 1134200.6358736646\n",
            "Taxa de vacinação diária calibrada =  0.237389659328808 %\n",
            "Dia = 90 ; População vacinada acumulado = 1226209.3441470433\n",
            "Taxa de vacinação diária calibrada =  0.2492591422952484 %\n",
            "Dia = 120 ; População vacinada acumulado = 1335609.6497430827\n",
            "Taxa de vacinação diária calibrada =  0.26172209941001084 %\n",
            "Dia = 150 ; População vacinada acumulado = 1466472.7570992373\n",
            "Taxa de vacinação diária calibrada =  0.2748082043805114 %\n",
            "Dia = 180 ; População vacinada acumulado = 1624064.0022520602\n",
            "Taxa de vacinação diária calibrada =  0.28854861459953696 %\n",
            "Dia = 210 ; População vacinada acumulado = 1815260.4825772094\n",
            "Taxa de vacinação diária calibrada =  0.30297604532951383 %\n",
            "Dia = 240 ; População vacinada acumulado = 2049138.3590231792\n",
            "Taxa de vacinação diária calibrada =  0.3181248475959895 %\n",
            "Dia = 270 ; População vacinada acumulado = 2337808.5461927243\n",
            "Taxa de vacinação diária calibrada =  0.334031089975789 %\n",
            "Dia = 300 ; População vacinada acumulado = 2697620.6756555866\n",
            "Taxa de vacinação diária calibrada =  0.35073264447457847 %\n",
            "Dia = 330 ; População vacinada acumulado = 3150920.4298185287\n",
            "Taxa de vacinação diária calibrada =  0.36826927669830745 %\n",
            "Dia = 360 ; População vacinada acumulado = 3728650.1551021473\n",
            "Taxa de vacinação diária calibrada =  0.3866827405332228 %\n",
            "Dia = 390 ; População vacinada acumulado = 4474253.720322176\n",
            "Taxa de vacinação diária calibrada =  0.40601687755988397 %\n",
            "Dia = 420 ; População vacinada acumulado = 5449630.28676485\n",
            "Taxa de vacinação diária calibrada =  0.4263177214378782 %\n",
            "Dia = 450 ; População vacinada acumulado = 6744360.200607056\n",
            "Taxa de vacinação diária calibrada =  0.44763360750977216 %\n",
            "Quantidade de dias para vacinar a população de Santa Catarina = 452\n",
            "Estimado para todos os catarinenses estarem vacinados em = 2022-07-20 19:54:03.411308\n"
          ],
          "name": "stdout"
        }
      ]
    }
  ]
}